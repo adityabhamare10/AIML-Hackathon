{
 "cells": [
  {
   "cell_type": "code",
   "execution_count": 2,
   "id": "5bb3f547",
   "metadata": {},
   "outputs": [
    {
     "name": "stdout",
     "output_type": "stream",
     "text": [
      "Model Accuracy: 0.8840023497160759\n",
      "Prediction: [0], Probability: [[0.83886667 0.16113333]]\n"
     ]
    },
    {
     "name": "stderr",
     "output_type": "stream",
     "text": [
      "C:\\Users\\hp\\anaconda3\\Lib\\site-packages\\sklearn\\linear_model\\_logistic.py:460: ConvergenceWarning: lbfgs failed to converge (status=1):\n",
      "STOP: TOTAL NO. of ITERATIONS REACHED LIMIT.\n",
      "\n",
      "Increase the number of iterations (max_iter) or scale the data as shown in:\n",
      "    https://scikit-learn.org/stable/modules/preprocessing.html\n",
      "Please also refer to the documentation for alternative solver options:\n",
      "    https://scikit-learn.org/stable/modules/linear_model.html#logistic-regression\n",
      "  n_iter_i = _check_optimize_result(\n",
      "C:\\Users\\hp\\anaconda3\\Lib\\site-packages\\sklearn\\base.py:464: UserWarning: X does not have valid feature names, but LogisticRegression was fitted with feature names\n",
      "  warnings.warn(\n",
      "C:\\Users\\hp\\anaconda3\\Lib\\site-packages\\sklearn\\base.py:464: UserWarning: X does not have valid feature names, but LogisticRegression was fitted with feature names\n",
      "  warnings.warn(\n"
     ]
    }
   ],
   "source": [
    "import pandas as pd\n",
    "import numpy as np\n",
    "import joblib\n",
    "from sklearn.model_selection import train_test_split\n",
    "from sklearn.linear_model import LogisticRegression\n",
    "from sklearn.metrics import accuracy_score\n",
    "\n",
    "df = pd.read_csv(r\"C:\\Users\\hp\\Downloads\\Loan_default.csv\\Loan_default.csv\")\n",
    "df = df.drop(columns=['LoanID'])\n",
    "df.replace({\"Education\": {\"Bachelor's\": 0, 'High School': 1, \"Master's\": 2, 'PhD': 3}}, inplace=True)\n",
    "df.replace({\"EmploymentType\": {'Part-time': 0, 'Unemployed': 1, 'Self-employed': 2, 'Full-time': 3}}, inplace=True)\n",
    "df.replace({\"MaritalStatus\": {'Married': 0, 'Divorced': 1, 'Single': 2}}, inplace=True)\n",
    "df.replace({\"HasMortgage\": {'No': 0, 'Yes': 1}}, inplace=True)\n",
    "df.replace({\"HasDependents\": {'No': 0, 'Yes': 1}}, inplace=True)\n",
    "df.replace({\"LoanPurpose\": {'Business': 0, 'Home': 1, 'Education': 2, 'Other': 3, 'Auto': 4}}, inplace=True)\n",
    "df.replace({\"HasCoSigner\": {'No': 0, 'Yes': 1}}, inplace=True)\n",
    "\n",
    "X = df.drop(columns=['Default'], axis=1)\n",
    "Y = df['Default']\n",
    "\n",
    "X_train, X_test, Y_train, Y_test = train_test_split(X, Y, test_size=0.1, stratify=Y, random_state=2)\n",
    "\n",
    "model = LogisticRegression()\n",
    "model.fit(X_train, Y_train)\n",
    "\n",
    "print(f\"Model Accuracy: {model.score(X_test, Y_test)}\")\n",
    "\n",
    "joblib.dump(model, r'C:\\Users\\hp\\Documents\\AILML Hackathon\\prediction_model.pkl')\n",
    "\n",
    "sample_data = np.array([25, 85994, 50587, 451, 36, 1, 12, 36, 0.44, 1, 1, 1, 0, 0, 1, 1]).reshape(1, -1)\n",
    "pred = model.predict(sample_data)\n",
    "pred_proba = model.predict_proba(sample_data)\n",
    "print(f\"Prediction: {pred}, Probability: {pred_proba}\")\n"
   ]
  },
  {
   "cell_type": "code",
   "execution_count": null,
   "id": "a5a196a4",
   "metadata": {},
   "outputs": [],
   "source": []
  }
 ],
 "metadata": {
  "kernelspec": {
   "display_name": "Python 3 (ipykernel)",
   "language": "python",
   "name": "python3"
  },
  "language_info": {
   "codemirror_mode": {
    "name": "ipython",
    "version": 3
   },
   "file_extension": ".py",
   "mimetype": "text/x-python",
   "name": "python",
   "nbconvert_exporter": "python",
   "pygments_lexer": "ipython3",
   "version": "3.11.5"
  }
 },
 "nbformat": 4,
 "nbformat_minor": 5
}
